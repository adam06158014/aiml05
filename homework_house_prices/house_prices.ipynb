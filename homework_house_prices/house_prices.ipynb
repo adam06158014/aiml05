{
 "cells": [
  {
   "cell_type": "markdown",
   "metadata": {},
   "source": [
    "### House Prices - Advanced Regression Techniques \n",
    "\n",
    "回家作業: [House prices: Lasso, XGBoost, and a detailed EDA](https://www.kaggle.com/code/erikbruin/house-prices-lasso-xgboost-and-a-detailed-eda) (R語言)\n",
    "\n",
    "Python語言 3篇:<br>\n",
    "排行榜前4% [Stacked Regressions : Top 4% on LeaderBoard](https://www.kaggle.com/code/serigne/stacked-regressions-top-4-on-leaderboard)<br>\n",
    "進階內容 [Comprehensive data exploration with Python](https://www.kaggle.com/code/pmarcelino/comprehensive-data-exploration-with-python)<br>\n",
    "適合初學 [A study on Regression applied to the Ames dataset](https://www.kaggle.com/code/juliencs/a-study-on-regression-applied-to-the-ames-dataset)<br>"
   ]
  },
  {
   "cell_type": "markdown",
   "metadata": {},
   "source": [
    "---\n",
    "### 先去看一看這個競賽要我們做甚麼 ?\n",
    "\n",
    "[House Prices - Advanced Regression Techniques](https://www.kaggle.com/competitions/house-prices-advanced-regression-techniques/overview)\n",
    "\n",
    "![kaggle_house_prices](./ScreenShot/kaggle_house_prices_hight_light.png)"
   ]
  },
  {
   "cell_type": "markdown",
   "metadata": {},
   "source": [
    "---\n",
    "### 再去看一看原始的資料內容 \n",
    "資料集: [Dataset Description](https://www.kaggle.com/competitions/house-prices-advanced-regression-techniques/data?select=train.csv)"
   ]
  },
  {
   "cell_type": "code",
   "execution_count": null,
   "metadata": {},
   "outputs": [],
   "source": [
    "!pip install scikit-learn"
   ]
  },
  {
   "cell_type": "markdown",
   "metadata": {},
   "source": [
    "---\n",
    "### 接著開始Trace程式碼"
   ]
  },
  {
   "cell_type": "code",
   "execution_count": 3,
   "metadata": {},
   "outputs": [],
   "source": [
    "# Imports\n",
    "import pandas as pd\n",
    "import numpy as np\n",
    "from sklearn.model_selection import cross_val_score, train_test_split\n",
    "from sklearn.preprocessing import StandardScaler\n",
    "from sklearn.linear_model import LinearRegression, RidgeCV, LassoCV, ElasticNetCV\n",
    "from sklearn.metrics import mean_squared_error, make_scorer\n",
    "from scipy.stats import skew\n",
    "from IPython.display import display\n",
    "import matplotlib.pyplot as plt\n",
    "import seaborn as sns\n",
    "\n",
    "# Definitions\n",
    "pd.set_option('display.float_format', lambda x: '%.3f' % x)\n",
    "%matplotlib inline\n",
    "#njobs = 4"
   ]
  },
  {
   "cell_type": "code",
   "execution_count": null,
   "metadata": {},
   "outputs": [],
   "source": [
    "!pip install scikit-learn"
   ]
  },
  {
   "cell_type": "markdown",
   "metadata": {},
   "source": [
    "---\n",
    "### 讀取 訓練資料集\n",
    "\n",
    "這邊要先到網站上下載 [train.csv](https://storage.googleapis.com/kagglesdsdata/competitions/5407/868283/train.csv?GoogleAccessId=web-data@kaggle-161607.iam.gserviceaccount.com&Expires=1715331218&Signature=GNm74UnXsm%2F7mfN3%2BA3SkSlXd4Mvik3461SGKHjkgd7pkT%2FtxjiVWY%2BHkZmyZJwbG%2BCCbdHd6n1rML5l0Ky%2BQ%2BraH%2FDWfoPvimJPvTIKpHntoRsjEV7lcW51awvCYsVITMCCOXJM2nHbJbOdDtiTYxDlDPQliDcxG%2F7QlXoqVejRi%2FGJc%2FqaXR55YQCbQob4Mjy6%2FIN431djZS6ZtxIFFAOed7LDlH7J3BFGEeBNLkTHLz56m8YUnpfIvjyQilPY2O%2FInEcfHECOGBoVkzG%2FCjOiGV8kXS0ob7jnVSO8anAtzxXeGUSzXSoFb2JC9R%2FWFUkueWUM8mIl8tlyaZ8LQg%3D%3D&response-content-disposition=attachment%3B+filename%3Dtrain.csv)\n",
    "\n",
    "在Data標籤頁的最下面 [Data](https://www.kaggle.com/competitions/house-prices-advanced-regression-techniques/data)"
   ]
  },
  {
   "cell_type": "code",
   "execution_count": 4,
   "metadata": {},
   "outputs": [
    {
     "name": "stdout",
     "output_type": "stream",
     "text": [
      "train : (1460, 81)\n"
     ]
    }
   ],
   "source": [
    "# Get data\n",
    "train = pd.read_csv(\"./train.csv\")\n",
    "print(\"train : \" + str(train.shape))"
   ]
  },
  {
   "cell_type": "markdown",
   "metadata": {},
   "source": [
    "---\n",
    "### 檢查重複項\n",
    "\n",
    "透過ID 檢查有沒有 重複的項目\n",
    "\n",
    "確定沒有 ID重複 的資料，就把ID這個欄位全部 Drop 掉\n",
    "\n",
    "因為ID這個欄位 只代表 有幾筆資料，跟我們想要預測的 \"房價\" 一點關聯性都沒有\n",
    "\n",
    "也就是說 不可能這樣推測:<br>\n",
    "第273筆的房屋 -> 大約是 4800萬<br>\n",
    "第462筆的房屋 -> 大約是 2760萬"
   ]
  },
  {
   "cell_type": "code",
   "execution_count": 5,
   "metadata": {},
   "outputs": [
    {
     "name": "stdout",
     "output_type": "stream",
     "text": [
      "<class 'pandas.core.series.Series'>\n",
      "There are 0 duplicate IDs for 1460 total entries\n"
     ]
    }
   ],
   "source": [
    "# 透過ID 檢查是否有 重複的項目\n",
    "# Check for duplicates\n",
    "\n",
    "print(type(train.Id))\n",
    "idsUnique = len(set(train.Id)) # 把這筆資料放進set，Python當中 Set資料型態的特性 是重複的資料 只會出現一次\n",
    "idsTotal = train.shape[0] # Train 總數量\n",
    "idsDupli = idsTotal - idsUnique\n",
    "print(\"There are \" + str(idsDupli) + \" duplicate IDs for \" + str(idsTotal) + \" total entries\")\n",
    "\n",
    "# ID 只是表示說我有幾筆資料，並無法反映房屋的任何特徵，對於訓練來說是沒用的資料，所以Drop掉\n",
    "# Drop Id column\n",
    "train.drop(\"Id\", axis = 1, inplace = True)"
   ]
  },
  {
   "cell_type": "markdown",
   "metadata": {},
   "source": [
    "---\n",
    "### 剔除離群值 (Outlier)\n",
    "\n",
    "但一開始看不懂怎麼辦 ? 把它畫 or 印出來，看它在幹嘛"
   ]
  },
  {
   "cell_type": "code",
   "execution_count": 6,
   "metadata": {},
   "outputs": [
    {
     "data": {
      "image/png": "[encoded data removed]",
      "text/plain": [
       "<Figure size 640x480 with 1 Axes>"
      ]
     },
     "metadata": {},
     "output_type": "display_data"
    },
    {
     "name": "stdout",
     "output_type": "stream",
     "text": [
      "Before: 1460\n",
      "After: 1456\n"
     ]
    }
   ],
   "source": [
    "# 使用 plot 繪製圖表，來查看 房屋面積的平方英尺【GrLivArea】 離群值\n",
    "# 橫軸房屋面積，縱軸價格\n",
    "\n",
    "# Looking for outliers, as indicated in https://ww2.amstat.org/publications/jse/v19n3/decock.pdf\n",
    "plt.scatter(train.GrLivArea, train.SalePrice, c = \"blue\", marker = \"s\")\n",
    "\n",
    "\n",
    "plt.title(\"Looking for outliers\")\n",
    "plt.xlabel(\"GrLivArea\")\n",
    "plt.ylabel(\"SalePrice\")\n",
    "\n",
    "# 在 x=4000 畫一條紅色線 (這條是我自己畫的)\n",
    "plt.axvline(x = 4000, color = 'r', label = 'axvline - full height') \n",
    "\n",
    "plt.show()\n",
    "\n",
    "print('Before:', len(train))\n",
    "train = train[train.GrLivArea < 4000] # 地面上面積小於 4000 平方英尺拿掉\n",
    "print('After:', len(train))"
   ]
  },
  {
   "cell_type": "markdown",
   "metadata": {},
   "source": [
    "---\n",
    "### 這邊是遵從 原論文作者建議，拿掉地面上面積大於4000平方英尺的資料\n",
    "\n",
    "在第4頁: [Ames, Iowa: Alternative to the Boston Housing Data as an\n",
    "End of Semester Regression Project](https://jse.amstat.org/v19n3/decock.pdf)\n",
    "\n",
    "![thesis_Dean_de_cock](.\\ScreenShot\\thesis_Dean_de_cock.png)\n",
    "\n",
    "### 但在老師給的回家作業中 - House prices: Lasso, XGBoost, and a detailed EDA\n",
    "\n",
    "只剔除 2個 離群值\n",
    "\n",
    "\n",
    "![kaggle_outliers](./ScreenShot/kaggle_2_outliers.png)\n",
    "\n"
   ]
  },
  {
   "cell_type": "markdown",
   "metadata": {},
   "source": [
    "---\n",
    "### 又看不懂了"
   ]
  },
  {
   "cell_type": "code",
   "execution_count": null,
   "metadata": {},
   "outputs": [],
   "source": [
    "# Log transform the target for official scoring\n",
    "train.SalePrice = np.log1p(train.SalePrice)\n",
    "y = train.SalePrice"
   ]
  },
  {
   "cell_type": "markdown",
   "metadata": {},
   "source": [
    "### 一樣再把它畫出來\n",
    "\n",
    "這邊畫出\n",
    "\n",
    "房價從: 0~10萬、10萬~20萬、20萬~30萬 (以此類推) 每個區間的房子 各有幾筆\n",
    "\n",
    "\n",
    "可以看到 這邊的資料經過 np.log1p 做處理\n",
    "\n",
    "上網稍微查了一下，是一個叫做 平滑處理 的資料處理方式\n",
    "\n",
    "至於甚麼叫做平滑處理，為何要做平滑處理? 就再請其他高手分享了~"
   ]
  },
  {
   "cell_type": "code",
   "execution_count": 7,
   "metadata": {},
   "outputs": [
    {
     "data": {
      "text/plain": [
       "Text(0, 0.5, 'Number of Items')"
      ]
     },
     "execution_count": 7,
     "metadata": {},
     "output_type": "execute_result"
    },
    {
     "data": {
      "image/png": "[encoded data removed]",
      "text/plain": [
       "<Figure size 640x480 with 1 Axes>"
      ]
     },
     "metadata": {},
     "output_type": "display_data"
    },
    {
     "data": {
      "image/png": "[encoded data removed]",
      "text/plain": [
       "<Figure size 640x480 with 1 Axes>"
      ]
     },
     "metadata": {},
     "output_type": "display_data"
    }
   ],
   "source": [
    "################### 處理前 ###################\n",
    "plt.figure(1)\n",
    "arr_counts_1, arr_bins_1, obj_1 = plt.hist(train.SalePrice)\n",
    "plt.title('Before')\n",
    "plt.xlabel(\"SalePrice\")\n",
    "plt.ylabel(\"Number of Items\")\n",
    "\n",
    "################### 透過 log1p 做處理 ###################\n",
    "train.SalePrice = np.log1p(train.SalePrice)\n",
    "y = train.SalePrice\n",
    "\n",
    "################### 處理後 ###################\n",
    "plt.figure(2)\n",
    "plt.title('After')\n",
    "arr_counts_2, arr_bins_2, obj_2 = plt.hist(y)\n",
    "plt.xlabel(\"SalePrice\")\n",
    "plt.ylabel(\"Number of Items\")"
   ]
  },
  {
   "cell_type": "markdown",
   "metadata": {},
   "source": [
    "### 【log1p】 平滑處理\n",
    "這裡使用 np.log1p來對 SalePrice 資料進行 預處理\n",
    "\n",
    "目的是將 資料數字縮小，並且改以高斯分布\n",
    "\n",
    "猜測 能讓訓練出來的模型 更好的預測房價\n",
    "\n",
    "但為何這樣做，就能導致模型更精準 ?\n",
    "\n",
    "參考資料: \n",
    "[MDN Web docs](https://developer.mozilla.org/zh-CN/docs/Web/JavaScript/Reference/Global_Objects/Math/log1p)、\n",
    "[AI學習平台](https://www.cupoy.com/qa/club/ai_tw/0000016D6BA22D97000000016375706F795F72656C656173654B5741535354434C5542/0000017700F271D9000000106375706F795F72656C656173655155455354)\n",
    "\n",
    "<img src=\".\\ScreenShot\\mdn_web_doc.png\">\n",
    "\n",
    "<img src=\".\\ScreenShot\\mdn_web_doc_log1p.jpg\">\n"
   ]
  },
  {
   "cell_type": "markdown",
   "metadata": {},
   "source": [
    "### 處理 缺失值 (Missing Value)\n",
    "\n",
    "對空值NA值做處理，這邊就是暴力硬幹\n",
    "\n",
    "pandas.DataFrame.fillna: [API - Doc](https://pandas.pydata.org/docs/reference/api/pandas.DataFrame.fillna.html)\n",
    "\n",
    "參考資料: [Medium - Pandas.fillna](https://medium.com/@zector1030/pandas-fillna-%E7%AF%84%E4%BE%8B-5d33819fb7b8)"
   ]
  },
  {
   "cell_type": "code",
   "execution_count": 173,
   "metadata": {},
   "outputs": [],
   "source": [
    "# Handle missing values for features where median/mean or most common value doesn't make sense\n",
    "\n",
    "# Alley : data description says NA means \"no alley access\"\n",
    "train.loc[:, \"Alley\"] = train.loc[:, \"Alley\"].fillna(\"None\")\n",
    "# BedroomAbvGr : NA most likely means 0\n",
    "train.loc[:, \"BedroomAbvGr\"] = train.loc[:, \"BedroomAbvGr\"].fillna(0)\n",
    "# BsmtQual etc : data description says NA for basement features is \"no basement\"\n",
    "train.loc[:, \"BsmtQual\"] = train.loc[:, \"BsmtQual\"].fillna(\"No\")\n",
    "train.loc[:, \"BsmtCond\"] = train.loc[:, \"BsmtCond\"].fillna(\"No\")\n",
    "train.loc[:, \"BsmtExposure\"] = train.loc[:, \"BsmtExposure\"].fillna(\"No\")\n",
    "train.loc[:, \"BsmtFinType1\"] = train.loc[:, \"BsmtFinType1\"].fillna(\"No\")\n",
    "train.loc[:, \"BsmtFinType2\"] = train.loc[:, \"BsmtFinType2\"].fillna(\"No\")\n",
    "train.loc[:, \"BsmtFullBath\"] = train.loc[:, \"BsmtFullBath\"].fillna(0)\n",
    "train.loc[:, \"BsmtHalfBath\"] = train.loc[:, \"BsmtHalfBath\"].fillna(0)\n",
    "train.loc[:, \"BsmtUnfSF\"] = train.loc[:, \"BsmtUnfSF\"].fillna(0)\n",
    "# CentralAir : NA most likely means No\n",
    "train.loc[:, \"CentralAir\"] = train.loc[:, \"CentralAir\"].fillna(\"N\")\n",
    "# Condition : NA most likely means Normal\n",
    "train.loc[:, \"Condition1\"] = train.loc[:, \"Condition1\"].fillna(\"Norm\")\n",
    "train.loc[:, \"Condition2\"] = train.loc[:, \"Condition2\"].fillna(\"Norm\")\n",
    "# EnclosedPorch : NA most likely means no enclosed porch\n",
    "train.loc[:, \"EnclosedPorch\"] = train.loc[:, \"EnclosedPorch\"].fillna(0)\n",
    "# External stuff : NA most likely means average\n",
    "train.loc[:, \"ExterCond\"] = train.loc[:, \"ExterCond\"].fillna(\"TA\")\n",
    "train.loc[:, \"ExterQual\"] = train.loc[:, \"ExterQual\"].fillna(\"TA\")\n",
    "# Fence : data description says NA means \"no fence\"\n",
    "train.loc[:, \"Fence\"] = train.loc[:, \"Fence\"].fillna(\"No\")\n",
    "# FireplaceQu : data description says NA means \"no fireplace\"\n",
    "train.loc[:, \"FireplaceQu\"] = train.loc[:, \"FireplaceQu\"].fillna(\"No\")\n",
    "train.loc[:, \"Fireplaces\"] = train.loc[:, \"Fireplaces\"].fillna(0)\n",
    "# Functional : data description says NA means typical\n",
    "train.loc[:, \"Functional\"] = train.loc[:, \"Functional\"].fillna(\"Typ\")\n",
    "# GarageType etc : data description says NA for garage features is \"no garage\"\n",
    "train.loc[:, \"GarageType\"] = train.loc[:, \"GarageType\"].fillna(\"No\")\n",
    "train.loc[:, \"GarageFinish\"] = train.loc[:, \"GarageFinish\"].fillna(\"No\")\n",
    "train.loc[:, \"GarageQual\"] = train.loc[:, \"GarageQual\"].fillna(\"No\")\n",
    "train.loc[:, \"GarageCond\"] = train.loc[:, \"GarageCond\"].fillna(\"No\")\n",
    "train.loc[:, \"GarageArea\"] = train.loc[:, \"GarageArea\"].fillna(0)\n",
    "train.loc[:, \"GarageCars\"] = train.loc[:, \"GarageCars\"].fillna(0)\n",
    "# HalfBath : NA most likely means no half baths above grade\n",
    "train.loc[:, \"HalfBath\"] = train.loc[:, \"HalfBath\"].fillna(0)\n",
    "# HeatingQC : NA most likely means typical\n",
    "train.loc[:, \"HeatingQC\"] = train.loc[:, \"HeatingQC\"].fillna(\"TA\")\n",
    "# KitchenAbvGr : NA most likely means 0\n",
    "train.loc[:, \"KitchenAbvGr\"] = train.loc[:, \"KitchenAbvGr\"].fillna(0)\n",
    "# KitchenQual : NA most likely means typical\n",
    "train.loc[:, \"KitchenQual\"] = train.loc[:, \"KitchenQual\"].fillna(\"TA\")\n",
    "# LotFrontage : NA most likely means no lot frontage\n",
    "train.loc[:, \"LotFrontage\"] = train.loc[:, \"LotFrontage\"].fillna(0)\n",
    "# LotShape : NA most likely means regular\n",
    "train.loc[:, \"LotShape\"] = train.loc[:, \"LotShape\"].fillna(\"Reg\")\n",
    "# MasVnrType : NA most likely means no veneer\n",
    "train.loc[:, \"MasVnrType\"] = train.loc[:, \"MasVnrType\"].fillna(\"None\")\n",
    "train.loc[:, \"MasVnrArea\"] = train.loc[:, \"MasVnrArea\"].fillna(0)\n",
    "# MiscFeature : data description says NA means \"no misc feature\"\n",
    "train.loc[:, \"MiscFeature\"] = train.loc[:, \"MiscFeature\"].fillna(\"No\")\n",
    "train.loc[:, \"MiscVal\"] = train.loc[:, \"MiscVal\"].fillna(0)\n",
    "# OpenPorchSF : NA most likely means no open porch\n",
    "train.loc[:, \"OpenPorchSF\"] = train.loc[:, \"OpenPorchSF\"].fillna(0)\n",
    "# PavedDrive : NA most likely means not paved\n",
    "train.loc[:, \"PavedDrive\"] = train.loc[:, \"PavedDrive\"].fillna(\"N\")\n",
    "# PoolQC : data description says NA means \"no pool\"\n",
    "train.loc[:, \"PoolQC\"] = train.loc[:, \"PoolQC\"].fillna(\"No\")\n",
    "train.loc[:, \"PoolArea\"] = train.loc[:, \"PoolArea\"].fillna(0)\n",
    "# SaleCondition : NA most likely means normal sale\n",
    "train.loc[:, \"SaleCondition\"] = train.loc[:, \"SaleCondition\"].fillna(\"Normal\")\n",
    "# ScreenPorch : NA most likely means no screen porch\n",
    "train.loc[:, \"ScreenPorch\"] = train.loc[:, \"ScreenPorch\"].fillna(0)\n",
    "# TotRmsAbvGrd : NA most likely means 0\n",
    "train.loc[:, \"TotRmsAbvGrd\"] = train.loc[:, \"TotRmsAbvGrd\"].fillna(0)\n",
    "# Utilities : NA most likely means all public utilities\n",
    "train.loc[:, \"Utilities\"] = train.loc[:, \"Utilities\"].fillna(\"AllPub\")\n",
    "# WoodDeckSF : NA most likely means no wood deck\n",
    "train.loc[:, \"WoodDeckSF\"] = train.loc[:, \"WoodDeckSF\"].fillna(0)"
   ]
  },
  {
   "cell_type": "markdown",
   "metadata": {},
   "source": [
    "有些數字，只是代表 分類的一個代稱，而不是一個具有真正意義的數字 (對於訓練來說沒意義)\n",
    "\n",
    "所以把這些沒有真實意義的數字，改成一個簡單的代稱"
   ]
  },
  {
   "cell_type": "code",
   "execution_count": 174,
   "metadata": {},
   "outputs": [],
   "source": [
    "# Some numerical features are actually really categories\n",
    "train = train.replace(\n",
    "    {\n",
    "        \"MSSubClass\": {\n",
    "            20: \"SC20\",\n",
    "            30: \"SC30\",\n",
    "            40: \"SC40\",\n",
    "            45: \"SC45\",\n",
    "            50: \"SC50\",\n",
    "            60: \"SC60\",\n",
    "            70: \"SC70\",\n",
    "            75: \"SC75\",\n",
    "            80: \"SC80\",\n",
    "            85: \"SC85\",\n",
    "            90: \"SC90\",\n",
    "            120: \"SC120\",\n",
    "            150: \"SC150\",\n",
    "            160: \"SC160\",\n",
    "            180: \"SC180\",\n",
    "            190: \"SC190\",\n",
    "        },\n",
    "        \"MoSold\": {\n",
    "            1: \"Jan\",\n",
    "            2: \"Feb\",\n",
    "            3: \"Mar\",\n",
    "            4: \"Apr\",\n",
    "            5: \"May\",\n",
    "            6: \"Jun\",\n",
    "            7: \"Jul\",\n",
    "            8: \"Aug\",\n",
    "            9: \"Sep\",\n",
    "            10: \"Oct\",\n",
    "            11: \"Nov\",\n",
    "            12: \"Dec\",\n",
    "        },\n",
    "    }\n",
    ")\n"
   ]
  },
  {
   "attachments": {
    "image.png": {
     "image/png": "[encoded data removed]"
    }
   },
   "cell_type": "markdown",
   "metadata": {},
   "source": [
    "假設某個欄位有等級高低的，就改用數字來表示它，而非 英文縮寫\n",
    "\n",
    "![kaggle_BsmtCond](./ScreenShot/kaggle_BsmtCond.png)"
   ]
  },
  {
   "cell_type": "code",
   "execution_count": 175,
   "metadata": {},
   "outputs": [],
   "source": [
    "# Encode some categorical features as ordered numbers when there is information in the order\n",
    "train = train.replace(\n",
    "    {\n",
    "        \"Alley\": {\"Grvl\": 1, \"Pave\": 2},\n",
    "        \"BsmtCond\": {\"No\": 0, \"Po\": 1, \"Fa\": 2, \"TA\": 3, \"Gd\": 4, \"Ex\": 5},\n",
    "        \"BsmtExposure\": {\"No\": 0, \"Mn\": 1, \"Av\": 2, \"Gd\": 3},\n",
    "        \"BsmtFinType1\": {\n",
    "            \"No\": 0,\n",
    "            \"Unf\": 1,\n",
    "            \"LwQ\": 2,\n",
    "            \"Rec\": 3,\n",
    "            \"BLQ\": 4,\n",
    "            \"ALQ\": 5,\n",
    "            \"GLQ\": 6,\n",
    "        },\n",
    "        \"BsmtFinType2\": {\n",
    "            \"No\": 0,\n",
    "            \"Unf\": 1,\n",
    "            \"LwQ\": 2,\n",
    "            \"Rec\": 3,\n",
    "            \"BLQ\": 4,\n",
    "            \"ALQ\": 5,\n",
    "            \"GLQ\": 6,\n",
    "        },\n",
    "        \"BsmtQual\": {\"No\": 0, \"Po\": 1, \"Fa\": 2, \"TA\": 3, \"Gd\": 4, \"Ex\": 5},\n",
    "        \"ExterCond\": {\"Po\": 1, \"Fa\": 2, \"TA\": 3, \"Gd\": 4, \"Ex\": 5},\n",
    "        \"ExterQual\": {\"Po\": 1, \"Fa\": 2, \"TA\": 3, \"Gd\": 4, \"Ex\": 5},\n",
    "        \"FireplaceQu\": {\"No\": 0, \"Po\": 1, \"Fa\": 2, \"TA\": 3, \"Gd\": 4, \"Ex\": 5},\n",
    "        \"Functional\": {\n",
    "            \"Sal\": 1,\n",
    "            \"Sev\": 2,\n",
    "            \"Maj2\": 3,\n",
    "            \"Maj1\": 4,\n",
    "            \"Mod\": 5,\n",
    "            \"Min2\": 6,\n",
    "            \"Min1\": 7,\n",
    "            \"Typ\": 8,\n",
    "        },\n",
    "        \"GarageCond\": {\"No\": 0, \"Po\": 1, \"Fa\": 2, \"TA\": 3, \"Gd\": 4, \"Ex\": 5},\n",
    "        \"GarageQual\": {\"No\": 0, \"Po\": 1, \"Fa\": 2, \"TA\": 3, \"Gd\": 4, \"Ex\": 5},\n",
    "        \"HeatingQC\": {\"Po\": 1, \"Fa\": 2, \"TA\": 3, \"Gd\": 4, \"Ex\": 5},\n",
    "        \"KitchenQual\": {\"Po\": 1, \"Fa\": 2, \"TA\": 3, \"Gd\": 4, \"Ex\": 5},\n",
    "        \"LandSlope\": {\"Sev\": 1, \"Mod\": 2, \"Gtl\": 3},\n",
    "        \"LotShape\": {\"IR3\": 1, \"IR2\": 2, \"IR1\": 3, \"Reg\": 4},\n",
    "        \"PavedDrive\": {\"N\": 0, \"P\": 1, \"Y\": 2},\n",
    "        \"PoolQC\": {\"No\": 0, \"Fa\": 1, \"TA\": 2, \"Gd\": 3, \"Ex\": 4},\n",
    "        \"Street\": {\"Grvl\": 1, \"Pave\": 2},\n",
    "        \"Utilities\": {\"ELO\": 1, \"NoSeWa\": 2, \"NoSewr\": 3, \"AllPub\": 4},\n",
    "    }\n",
    ")\n"
   ]
  },
  {
   "cell_type": "markdown",
   "metadata": {},
   "source": [
    "---\n",
    "### 新增 原本資料集 簡化後的欄位(特徵)"
   ]
  },
  {
   "cell_type": "code",
   "execution_count": 177,
   "metadata": {},
   "outputs": [],
   "source": [
    "# Create new features\n",
    "# 1* Simplifications of existing features\n",
    "train[\"SimplOverallQual\"] = train.OverallQual.replace(\n",
    "    {\n",
    "        1: 1,\n",
    "        2: 1,\n",
    "        3: 1,  # bad\n",
    "        4: 2,\n",
    "        5: 2,\n",
    "        6: 2,  # average\n",
    "        7: 3,\n",
    "        8: 3,\n",
    "        9: 3,\n",
    "        10: 3,  # good\n",
    "    }\n",
    ")\n",
    "train[\"SimplOverallCond\"] = train.OverallCond.replace(\n",
    "    {\n",
    "        1: 1,\n",
    "        2: 1,\n",
    "        3: 1,  # bad\n",
    "        4: 2,\n",
    "        5: 2,\n",
    "        6: 2,  # average\n",
    "        7: 3,\n",
    "        8: 3,\n",
    "        9: 3,\n",
    "        10: 3,  # good\n",
    "    }\n",
    ")\n",
    "train[\"SimplPoolQC\"] = train.PoolQC.replace(\n",
    "    {\n",
    "        1: 1,\n",
    "        2: 1,  # average\n",
    "        3: 2,\n",
    "        4: 2,  # good\n",
    "    }\n",
    ")\n",
    "train[\"SimplGarageCond\"] = train.GarageCond.replace(\n",
    "    {\n",
    "        1: 1,  # bad\n",
    "        2: 1,\n",
    "        3: 1,  # average\n",
    "        4: 2,\n",
    "        5: 2,  # good\n",
    "    }\n",
    ")\n",
    "train[\"SimplGarageQual\"] = train.GarageQual.replace(\n",
    "    {\n",
    "        1: 1,  # bad\n",
    "        2: 1,\n",
    "        3: 1,  # average\n",
    "        4: 2,\n",
    "        5: 2,  # good\n",
    "    }\n",
    ")\n",
    "train[\"SimplFireplaceQu\"] = train.FireplaceQu.replace(\n",
    "    {\n",
    "        1: 1,  # bad\n",
    "        2: 1,\n",
    "        3: 1,  # average\n",
    "        4: 2,\n",
    "        5: 2,  # good\n",
    "    }\n",
    ")\n",
    "train[\"SimplFireplaceQu\"] = train.FireplaceQu.replace(\n",
    "    {\n",
    "        1: 1,  # bad\n",
    "        2: 1,\n",
    "        3: 1,  # average\n",
    "        4: 2,\n",
    "        5: 2,  # good\n",
    "    }\n",
    ")\n",
    "train[\"SimplFunctional\"] = train.Functional.replace(\n",
    "    {\n",
    "        1: 1,\n",
    "        2: 1,  # bad\n",
    "        3: 2,\n",
    "        4: 2,  # major\n",
    "        5: 3,\n",
    "        6: 3,\n",
    "        7: 3,  # minor\n",
    "        8: 4,  # typical\n",
    "    }\n",
    ")\n",
    "train[\"SimplKitchenQual\"] = train.KitchenQual.replace(\n",
    "    {\n",
    "        1: 1,  # bad\n",
    "        2: 1,\n",
    "        3: 1,  # average\n",
    "        4: 2,\n",
    "        5: 2,  # good\n",
    "    }\n",
    ")\n",
    "train[\"SimplHeatingQC\"] = train.HeatingQC.replace(\n",
    "    {\n",
    "        1: 1,  # bad\n",
    "        2: 1,\n",
    "        3: 1,  # average\n",
    "        4: 2,\n",
    "        5: 2,  # good\n",
    "    }\n",
    ")\n",
    "train[\"SimplBsmtFinType1\"] = train.BsmtFinType1.replace(\n",
    "    {\n",
    "        1: 1,  # unfinished\n",
    "        2: 1,\n",
    "        3: 1,  # rec room\n",
    "        4: 2,\n",
    "        5: 2,\n",
    "        6: 2,  # living quarters\n",
    "    }\n",
    ")\n",
    "train[\"SimplBsmtFinType2\"] = train.BsmtFinType2.replace(\n",
    "    {\n",
    "        1: 1,  # unfinished\n",
    "        2: 1,\n",
    "        3: 1,  # rec room\n",
    "        4: 2,\n",
    "        5: 2,\n",
    "        6: 2,  # living quarters\n",
    "    }\n",
    ")\n",
    "train[\"SimplBsmtCond\"] = train.BsmtCond.replace(\n",
    "    {\n",
    "        1: 1,  # bad\n",
    "        2: 1,\n",
    "        3: 1,  # average\n",
    "        4: 2,\n",
    "        5: 2,  # good\n",
    "    }\n",
    ")\n",
    "train[\"SimplBsmtQual\"] = train.BsmtQual.replace(\n",
    "    {\n",
    "        1: 1,  # bad\n",
    "        2: 1,\n",
    "        3: 1,  # average\n",
    "        4: 2,\n",
    "        5: 2,  # good\n",
    "    }\n",
    ")\n",
    "train[\"SimplExterCond\"] = train.ExterCond.replace(\n",
    "    {\n",
    "        1: 1,  # bad\n",
    "        2: 1,\n",
    "        3: 1,  # average\n",
    "        4: 2,\n",
    "        5: 2,  # good\n",
    "    }\n",
    ")\n",
    "train[\"SimplExterQual\"] = train.ExterQual.replace(\n",
    "    {\n",
    "        1: 1,  # bad\n",
    "        2: 1,\n",
    "        3: 1,  # average\n",
    "        4: 2,\n",
    "        5: 2,  # good\n",
    "    }\n",
    ")\n"
   ]
  },
  {
   "cell_type": "markdown",
   "metadata": {},
   "source": [
    "---\n",
    "### 繼續新增 簡化後的資料集 欄位(特徵)\n",
    "\n",
    "例如: 將某兩個相關的特徵相乘，產生出一個新的特徵\n",
    "\n",
    "OverallGrade = OverallQual * OverallCond\n",
    "\n",
    "房屋等第 = 建材品質分數 * 房屋現況分數\n",
    "\n",
    "![kaggle_OverallQua](./ScreenShot/kaggle_OverallQual.png)"
   ]
  },
  {
   "cell_type": "code",
   "execution_count": 179,
   "metadata": {},
   "outputs": [
    {
     "name": "stdout",
     "output_type": "stream",
     "text": [
      "\n",
      " [ Length of train: 108 ]\n"
     ]
    }
   ],
   "source": [
    "# 2* Combinations of existing features\n",
    "# Overall quality of the house\n",
    "train[\"OverallGrade\"] = train[\"OverallQual\"] * train[\"OverallCond\"]\n",
    "# Overall quality of the garage\n",
    "train[\"GarageGrade\"] = train[\"GarageQual\"] * train[\"GarageCond\"]\n",
    "# Overall quality of the exterior\n",
    "train[\"ExterGrade\"] = train[\"ExterQual\"] * train[\"ExterCond\"]\n",
    "# Overall kitchen score\n",
    "train[\"KitchenScore\"] = train[\"KitchenAbvGr\"] * train[\"KitchenQual\"]\n",
    "# Overall fireplace score\n",
    "train[\"FireplaceScore\"] = train[\"Fireplaces\"] * train[\"FireplaceQu\"]\n",
    "# Overall garage score\n",
    "train[\"GarageScore\"] = train[\"GarageArea\"] * train[\"GarageQual\"]\n",
    "# Overall pool score\n",
    "train[\"PoolScore\"] = train[\"PoolArea\"] * train[\"PoolQC\"]\n",
    "# Simplified overall quality of the house\n",
    "train[\"SimplOverallGrade\"] = train[\"SimplOverallQual\"] * train[\"SimplOverallCond\"]\n",
    "# Simplified overall quality of the exterior\n",
    "train[\"SimplExterGrade\"] = train[\"SimplExterQual\"] * train[\"SimplExterCond\"]\n",
    "# Simplified overall pool score\n",
    "train[\"SimplPoolScore\"] = train[\"PoolArea\"] * train[\"SimplPoolQC\"]\n",
    "# Simplified overall garage score\n",
    "train[\"SimplGarageScore\"] = train[\"GarageArea\"] * train[\"SimplGarageQual\"]\n",
    "# Simplified overall fireplace score\n",
    "train[\"SimplFireplaceScore\"] = train[\"Fireplaces\"] * train[\"SimplFireplaceQu\"]\n",
    "# Simplified overall kitchen score\n",
    "train[\"SimplKitchenScore\"] = train[\"KitchenAbvGr\"] * train[\"SimplKitchenQual\"]"
   ]
  },
  {
   "cell_type": "code",
   "execution_count": 180,
   "metadata": {},
   "outputs": [
    {
     "name": "stdout",
     "output_type": "stream",
     "text": [
      "\n",
      " [ Length of train: 112 ]\n"
     ]
    }
   ],
   "source": [
    "# Total number of bathrooms\n",
    "train[\"TotalBath\"] = train[\"BsmtFullBath\"] + (0.5 * train[\"BsmtHalfBath\"]) + \\\n",
    "train[\"FullBath\"] + (0.5 * train[\"HalfBath\"])\n",
    "# Total SF for house (incl. basement)\n",
    "train[\"AllSF\"] = train[\"GrLivArea\"] + train[\"TotalBsmtSF\"]\n",
    "# Total SF for 1st + 2nd floors\n",
    "train[\"AllFlrsSF\"] = train[\"1stFlrSF\"] + train[\"2ndFlrSF\"]\n",
    "# Total SF for porch\n",
    "train[\"AllPorchSF\"] = train[\"OpenPorchSF\"] + train[\"EnclosedPorch\"] + \\\n",
    "train[\"3SsnPorch\"] + train[\"ScreenPorch\"]"
   ]
  },
  {
   "cell_type": "code",
   "execution_count": 181,
   "metadata": {},
   "outputs": [
    {
     "name": "stdout",
     "output_type": "stream",
     "text": [
      "\n",
      " [ Length of train: 114 ]\n"
     ]
    }
   ],
   "source": [
    "# Has masonry veneer or not\n",
    "pd.set_option('future.no_silent_downcasting', True)\n",
    "\n",
    "train[\"HasMasVnr\"] = train.MasVnrType.replace(\n",
    "    {\"BrkCmn\": 1, \"BrkFace\": 1, \"CBlock\": 1, \"Stone\": 1, \"None\": 0}\n",
    ")\n",
    "# House completed before sale or not\n",
    "train[\"BoughtOffPlan\"] = train.SaleCondition.replace(\n",
    "    {\"Abnorml\": 0, \"Alloca\": 0, \"AdjLand\": 0, \"Family\": 0, \"Normal\": 0, \"Partial\": 1}\n",
    ")"
   ]
  },
  {
   "cell_type": "markdown",
   "metadata": {},
   "source": [
    "### 找出與 預測的目標(SalesPrice) 高度相關的 特徵 (欄位)\n",
    "\n",
    "白話: 計算 哪些房子的條件，更直接影響房價\n",
    "\n",
    "然後就出問題了 (還以為遇到東巴)"
   ]
  },
  {
   "cell_type": "code",
   "execution_count": 134,
   "metadata": {},
   "outputs": [
    {
     "name": "stdout",
     "output_type": "stream",
     "text": [
      "Find most important features relative to target\n"
     ]
    },
    {
     "ename": "ValueError",
     "evalue": "could not convert string to float: 'SC60'",
     "output_type": "error",
     "traceback": [
      "\u001b[1;31m---------------------------------------------------------------------------\u001b[0m",
      "\u001b[1;31mValueError\u001b[0m                                Traceback (most recent call last)",
      "Cell \u001b[1;32mIn[134], line 3\u001b[0m\n\u001b[0;32m      1\u001b[0m \u001b[38;5;66;03m# Find most important features relative to target\u001b[39;00m\n\u001b[0;32m      2\u001b[0m \u001b[38;5;28mprint\u001b[39m(\u001b[38;5;124m\"\u001b[39m\u001b[38;5;124mFind most important features relative to target\u001b[39m\u001b[38;5;124m\"\u001b[39m)\n\u001b[1;32m----> 3\u001b[0m corr \u001b[38;5;241m=\u001b[39m \u001b[43mtrain\u001b[49m\u001b[38;5;241;43m.\u001b[39;49m\u001b[43mcorr\u001b[49m\u001b[43m(\u001b[49m\u001b[43m)\u001b[49m\n\u001b[0;32m      4\u001b[0m corr\u001b[38;5;241m.\u001b[39msort_values([\u001b[38;5;124m\"\u001b[39m\u001b[38;5;124mSalePrice\u001b[39m\u001b[38;5;124m\"\u001b[39m], ascending \u001b[38;5;241m=\u001b[39m \u001b[38;5;28;01mFalse\u001b[39;00m, inplace \u001b[38;5;241m=\u001b[39m \u001b[38;5;28;01mTrue\u001b[39;00m)\n\u001b[0;32m      5\u001b[0m \u001b[38;5;28mprint\u001b[39m(corr\u001b[38;5;241m.\u001b[39mSalePrice)\n",
      "File \u001b[1;32mc:\\Users\\Gaming\\AppData\\Local\\Programs\\Python\\Python311\\Lib\\site-packages\\pandas\\core\\frame.py:11049\u001b[0m, in \u001b[0;36mDataFrame.corr\u001b[1;34m(self, method, min_periods, numeric_only)\u001b[0m\n\u001b[0;32m  11047\u001b[0m cols \u001b[38;5;241m=\u001b[39m data\u001b[38;5;241m.\u001b[39mcolumns\n\u001b[0;32m  11048\u001b[0m idx \u001b[38;5;241m=\u001b[39m cols\u001b[38;5;241m.\u001b[39mcopy()\n\u001b[1;32m> 11049\u001b[0m mat \u001b[38;5;241m=\u001b[39m \u001b[43mdata\u001b[49m\u001b[38;5;241;43m.\u001b[39;49m\u001b[43mto_numpy\u001b[49m\u001b[43m(\u001b[49m\u001b[43mdtype\u001b[49m\u001b[38;5;241;43m=\u001b[39;49m\u001b[38;5;28;43mfloat\u001b[39;49m\u001b[43m,\u001b[49m\u001b[43m \u001b[49m\u001b[43mna_value\u001b[49m\u001b[38;5;241;43m=\u001b[39;49m\u001b[43mnp\u001b[49m\u001b[38;5;241;43m.\u001b[39;49m\u001b[43mnan\u001b[49m\u001b[43m,\u001b[49m\u001b[43m \u001b[49m\u001b[43mcopy\u001b[49m\u001b[38;5;241;43m=\u001b[39;49m\u001b[38;5;28;43;01mFalse\u001b[39;49;00m\u001b[43m)\u001b[49m\n\u001b[0;32m  11051\u001b[0m \u001b[38;5;28;01mif\u001b[39;00m method \u001b[38;5;241m==\u001b[39m \u001b[38;5;124m\"\u001b[39m\u001b[38;5;124mpearson\u001b[39m\u001b[38;5;124m\"\u001b[39m:\n\u001b[0;32m  11052\u001b[0m     correl \u001b[38;5;241m=\u001b[39m libalgos\u001b[38;5;241m.\u001b[39mnancorr(mat, minp\u001b[38;5;241m=\u001b[39mmin_periods)\n",
      "File \u001b[1;32mc:\\Users\\Gaming\\AppData\\Local\\Programs\\Python\\Python311\\Lib\\site-packages\\pandas\\core\\frame.py:1993\u001b[0m, in \u001b[0;36mDataFrame.to_numpy\u001b[1;34m(self, dtype, copy, na_value)\u001b[0m\n\u001b[0;32m   1991\u001b[0m \u001b[38;5;28;01mif\u001b[39;00m dtype \u001b[38;5;129;01mis\u001b[39;00m \u001b[38;5;129;01mnot\u001b[39;00m \u001b[38;5;28;01mNone\u001b[39;00m:\n\u001b[0;32m   1992\u001b[0m     dtype \u001b[38;5;241m=\u001b[39m np\u001b[38;5;241m.\u001b[39mdtype(dtype)\n\u001b[1;32m-> 1993\u001b[0m result \u001b[38;5;241m=\u001b[39m \u001b[38;5;28;43mself\u001b[39;49m\u001b[38;5;241;43m.\u001b[39;49m\u001b[43m_mgr\u001b[49m\u001b[38;5;241;43m.\u001b[39;49m\u001b[43mas_array\u001b[49m\u001b[43m(\u001b[49m\u001b[43mdtype\u001b[49m\u001b[38;5;241;43m=\u001b[39;49m\u001b[43mdtype\u001b[49m\u001b[43m,\u001b[49m\u001b[43m \u001b[49m\u001b[43mcopy\u001b[49m\u001b[38;5;241;43m=\u001b[39;49m\u001b[43mcopy\u001b[49m\u001b[43m,\u001b[49m\u001b[43m \u001b[49m\u001b[43mna_value\u001b[49m\u001b[38;5;241;43m=\u001b[39;49m\u001b[43mna_value\u001b[49m\u001b[43m)\u001b[49m\n\u001b[0;32m   1994\u001b[0m \u001b[38;5;28;01mif\u001b[39;00m result\u001b[38;5;241m.\u001b[39mdtype \u001b[38;5;129;01mis\u001b[39;00m \u001b[38;5;129;01mnot\u001b[39;00m dtype:\n\u001b[0;32m   1995\u001b[0m     result \u001b[38;5;241m=\u001b[39m np\u001b[38;5;241m.\u001b[39masarray(result, dtype\u001b[38;5;241m=\u001b[39mdtype)\n",
      "File \u001b[1;32mc:\\Users\\Gaming\\AppData\\Local\\Programs\\Python\\Python311\\Lib\\site-packages\\pandas\\core\\internals\\managers.py:1694\u001b[0m, in \u001b[0;36mBlockManager.as_array\u001b[1;34m(self, dtype, copy, na_value)\u001b[0m\n\u001b[0;32m   1692\u001b[0m         arr\u001b[38;5;241m.\u001b[39mflags\u001b[38;5;241m.\u001b[39mwriteable \u001b[38;5;241m=\u001b[39m \u001b[38;5;28;01mFalse\u001b[39;00m\n\u001b[0;32m   1693\u001b[0m \u001b[38;5;28;01melse\u001b[39;00m:\n\u001b[1;32m-> 1694\u001b[0m     arr \u001b[38;5;241m=\u001b[39m \u001b[38;5;28;43mself\u001b[39;49m\u001b[38;5;241;43m.\u001b[39;49m\u001b[43m_interleave\u001b[49m\u001b[43m(\u001b[49m\u001b[43mdtype\u001b[49m\u001b[38;5;241;43m=\u001b[39;49m\u001b[43mdtype\u001b[49m\u001b[43m,\u001b[49m\u001b[43m \u001b[49m\u001b[43mna_value\u001b[49m\u001b[38;5;241;43m=\u001b[39;49m\u001b[43mna_value\u001b[49m\u001b[43m)\u001b[49m\n\u001b[0;32m   1695\u001b[0m     \u001b[38;5;66;03m# The underlying data was copied within _interleave, so no need\u001b[39;00m\n\u001b[0;32m   1696\u001b[0m     \u001b[38;5;66;03m# to further copy if copy=True or setting na_value\u001b[39;00m\n\u001b[0;32m   1698\u001b[0m \u001b[38;5;28;01mif\u001b[39;00m na_value \u001b[38;5;129;01mis\u001b[39;00m lib\u001b[38;5;241m.\u001b[39mno_default:\n",
      "File \u001b[1;32mc:\\Users\\Gaming\\AppData\\Local\\Programs\\Python\\Python311\\Lib\\site-packages\\pandas\\core\\internals\\managers.py:1753\u001b[0m, in \u001b[0;36mBlockManager._interleave\u001b[1;34m(self, dtype, na_value)\u001b[0m\n\u001b[0;32m   1751\u001b[0m     \u001b[38;5;28;01melse\u001b[39;00m:\n\u001b[0;32m   1752\u001b[0m         arr \u001b[38;5;241m=\u001b[39m blk\u001b[38;5;241m.\u001b[39mget_values(dtype)\n\u001b[1;32m-> 1753\u001b[0m     \u001b[43mresult\u001b[49m\u001b[43m[\u001b[49m\u001b[43mrl\u001b[49m\u001b[38;5;241;43m.\u001b[39;49m\u001b[43mindexer\u001b[49m\u001b[43m]\u001b[49m \u001b[38;5;241m=\u001b[39m arr\n\u001b[0;32m   1754\u001b[0m     itemmask[rl\u001b[38;5;241m.\u001b[39mindexer] \u001b[38;5;241m=\u001b[39m \u001b[38;5;241m1\u001b[39m\n\u001b[0;32m   1756\u001b[0m \u001b[38;5;28;01mif\u001b[39;00m \u001b[38;5;129;01mnot\u001b[39;00m itemmask\u001b[38;5;241m.\u001b[39mall():\n",
      "\u001b[1;31mValueError\u001b[0m: could not convert string to float: 'SC60'"
     ]
    }
   ],
   "source": [
    "# Find most important features relative to target\n",
    "print(\"Find most important features relative to target\")\n",
    "corr = train.corr()\n",
    "corr.sort_values([\"SalePrice\"], ascending = False, inplace = True)\n",
    "print(corr.SalePrice)"
   ]
  },
  {
   "cell_type": "markdown",
   "metadata": {},
   "source": [
    "### Degug\n",
    "\n",
    "Stack overflow: [複製貼上工程師](https://stackoverflow.com/questions/76533178/corr-results-in-valueerror-could-not-convert-string-to-float)\n",
    "\n",
    "![stack_overflow_numeric_only_true](./ScreenShot/stack_overflow_numeric_only_true.png)"
   ]
  },
  {
   "cell_type": "code",
   "execution_count": 182,
   "metadata": {},
   "outputs": [
    {
     "name": "stdout",
     "output_type": "stream",
     "text": [
      "Find most important features relative to target\n",
      "SalePrice           1.0\n",
      "OverallQual         0.819\n",
      "AllSF               0.817\n",
      "AllFlrsSF           0.729\n",
      "GrLivArea           0.719\n",
      "SimplOverallQual    0.708\n",
      "GarageCars          0.68\n",
      "TotalBath           0.673\n",
      "GarageArea          0.655\n",
      "TotalBsmtSF         0.642\n",
      "1stFlrSF            0.614\n",
      "OverallGrade        0.604\n",
      "FullBath            0.591\n",
      "YearBuilt           0.589\n",
      "YearRemodAdd        0.569\n",
      "GarageYrBlt         0.544\n",
      "TotRmsAbvGrd        0.533\n",
      "SimplOverallGrade   0.527\n",
      "Fireplaces          0.487\n",
      "MasVnrArea          0.426\n",
      "BsmtFinSF1          0.383\n",
      "WoodDeckSF          0.331\n",
      "OpenPorchSF         0.327\n",
      "HalfBath            0.311\n",
      "2ndFlrSF            0.307\n",
      "LotArea             0.259\n",
      "BsmtFullBath        0.239\n",
      "BsmtUnfSF           0.223\n",
      "BedroomAbvGr        0.204\n",
      "AllPorchSF          0.199\n",
      "LotFrontage         0.174\n",
      "ScreenPorch         0.124\n",
      "3SsnPorch           0.056\n",
      "PoolArea            0.041\n",
      "BsmtFinSF2          0.006\n",
      "BsmtHalfBath        -0.015\n",
      "MiscVal             -0.02\n",
      "SimplOverallCond    -0.028\n",
      "YrSold              -0.034\n",
      "OverallCond         -0.037\n",
      "LowQualFinSF        -0.038\n",
      "KitchenAbvGr        -0.148\n",
      "EnclosedPorch       -0.149\n"
     ]
    }
   ],
   "source": [
    "# Find most important features relative to target\n",
    "print(\"Find most important features relative to target\")\n",
    "\n",
    "# corr = train.corr() 多加 numeric_only=True \n",
    "corr = train.corr(numeric_only=True)\n",
    "\n",
    "corr.sort_values([\"SalePrice\"], ascending = False, inplace = True)\n",
    "\n",
    "for index in corr.SalePrice.index:\n",
    "    print(f'{str(index) :<20}{str(round(corr.SalePrice[index],3))}')"
   ]
  },
  {
   "cell_type": "markdown",
   "metadata": {},
   "source": [
    "### 學習方法\n",
    "\n",
    "**1. 番茄鐘 (25min 休5 min)**<br>\n",
    "&emsp;通常我們認為 累了再去休息<br>\n",
    "&emsp;但如果在大腦還沒累之前就先休息<br>\n",
    "&emsp;是不是能讓大腦不會累 ? 來提升專注力<br>\n",
    "\n",
    "**2. 一盞只有讀書才能開的檯燈**\n",
    "\n",
    "**3. 睡覺**<br>\n",
    "&emsp;促進大腦短期記憶轉長期記憶<br><br>\n",
    "&emsp;短期記憶: 海馬迴<br>\n",
    "&emsp;長期記憶: 大腦皮質\n",
    "\n",
    "有效的學習方法(3min): https://www.youtube.com/watch?v=p5NDIY2ngg0\n",
    "\n",
    "![yt_learning_method](./ScreenShot/yt_learning_method_marty.png)"
   ]
  },
  {
   "cell_type": "markdown",
   "metadata": {},
   "source": [
    "---\n",
    "### 如果這個世界也是一場遊戲，說不定能玩的很好\n",
    "\n",
    "<span style=\"color:#569CD6;\">遊戲缺點</span>: <span style=\"color:#CE9178;\">天賦屬性未知\n",
    "\n",
    "<span style=\"color:#569CD6;\">陷阱</span>: <span style=\"color:#CE9178;\">生活中遭遇的問題\n",
    "\n",
    "<span style=\"color:#569CD6;\">小怪</span>: <span style=\"color:#CE9178;\">學習上的遇到的各種 \"為甚麼\" (小怪打不贏，就去找NPV學技能、買裝備)\n",
    "\n",
    "<span style=\"color:#569CD6;\">副本王</span>: <span style=\"color:#CE9178;\">工作上遇到要解決的問題 (副本王打不贏，就回去推小怪、累積經驗值)\n",
    "\n",
    "<span style=\"color:#569CD6;\">世界王</span>: <span style=\"color:#CE9178;\">人類起源、費米悖論、地外文明、等等世界的未解之謎...\n",
    "\n",
    "<span style=\"color:#569CD6;\">習得裝備/武器/技能</span>: <span style=\"color:#CE9178;\">文學、地理學、表演、結構力學、心理學、藝術、歷史、數學、會計學、泥作、外語、生物學、民法刑法、法學導論、經濟學、電磁學、色彩學、流體力學 等等等列舉不完\n",
    "\n",
    "<p style=\"text-align: center;\"><span style=\"color:#CE9178;\">那麼... 有沒有神裝呢 ?</span></p>\n",
    "\n",
    "<span style=\"color:#569CD6;\">遊戲攻略</span>: <span style=\"color:#CE9178;\">Google、CheatGPT、Youtube 等等\n",
    "\n",
    "![pronhub_calculus](./ScreenShot/pronhub_calculus.png)"
   ]
  }
 ],
 "metadata": {
  "kernelspec": {
   "display_name": "Python 3",
   "language": "python",
   "name": "python3"
  },
  "language_info": {
   "codemirror_mode": {
    "name": "ipython",
    "version": 3
   },
   "file_extension": ".py",
   "mimetype": "text/x-python",
   "name": "python",
   "nbconvert_exporter": "python",
   "pygments_lexer": "ipython3",
   "version": "3.11.9"
  }
 },
 "nbformat": 4,
 "nbformat_minor": 2
}
